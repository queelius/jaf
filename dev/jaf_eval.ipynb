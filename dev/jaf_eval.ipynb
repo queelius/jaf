{
 "cells": [
  {
   "cell_type": "code",
   "execution_count": 1,
   "metadata": {},
   "outputs": [],
   "source": [
    "from jaf import jaf, jafError, path\n",
    "from pprint import pprint\n",
    "import logging\n",
    "logger = logging.getLogger(__name__)\n",
    "logger.setLevel(logging.DEBUG)\n"
   ]
  },
  {
   "cell_type": "code",
   "execution_count": 2,
   "metadata": {},
   "outputs": [
    {
     "name": "stdout",
     "output_type": "stream",
     "text": [
      "{'asset': {'btc': {'amount': 2, 'desc': 'Bitcoin', 'to-btc': 2, 'to-usd': 2000},\n",
      "           'eth': {'amount': 100,\n",
      "                   'desc': 'Etherium',\n",
      "                   'to-btc': 0.1,\n",
      "                   'to-usd': 100},\n",
      "           'usd': {'amount': 1000,\n",
      "                   'desc': 'US Dollar',\n",
      "                   'to-btc': 0.001,\n",
      "                   'to-usd': 1000}},\n",
      " 'owner': {'city': 'nowhere', 'dob': '2000-01-01', 'name': 'Bob'}}\n"
     ]
    }
   ],
   "source": [
    "\n",
    "data = [\n",
    "    {\n",
    "        \"owner\": {\n",
    "            \"name\": \"Bob\",\n",
    "            \"dob\": \"2000-01-01\",\n",
    "            \"city\": \"nowhere\"\n",
    "        },\n",
    "        \"asset\": {\n",
    "            \"btc\": {\n",
    "                \"amount\": 2,\n",
    "                \"desc\": \"Bitcoin\",\n",
    "                \"to-usd\": 2000,\n",
    "                \"to-btc\": 2\n",
    "            },\n",
    "            \"usd\": {\n",
    "                \"amount\": 1000,\n",
    "                \"desc\": \"US Dollar\",\n",
    "                \"to-usd\": 1000,\n",
    "                \"to-btc\": 0.001\n",
    "            },\n",
    "            \"eth\": {\n",
    "                \"amount\": 100,\n",
    "                \"desc\": \"Etherium\",\n",
    "                \"to-usd\": 100,\n",
    "                \"to-btc\": 0.1\n",
    "            }\n",
    "        }\n",
    "    },\n",
    "    {\n",
    "        \"owner\": {\n",
    "            \"name\": \"Alice\",\n",
    "            \"dob\": \"2005-01-01\",\n",
    "            \"city\": \"nowhere\"\n",
    "        },\n",
    "        \"asset\": {\n",
    "            \"btc\": {\n",
    "                \"amount\": 1,\n",
    "                \"desc\": \"Bitcoin\",\n",
    "                \"to-usd\": 1000,\n",
    "                \"to-btc\": 1\n",
    "            },\n",
    "            \"usd\": {\n",
    "                \"amount\": 500,\n",
    "                \"desc\": \"US Dollar\",\n",
    "                \"to-usd\": 500,\n",
    "                \"to-btc\": 0.0005\n",
    "            },\n",
    "            \"eth\": {\n",
    "                \"amount\": 50,\n",
    "                \"desc\": \"Etherium\",\n",
    "                \"to-usd\": 50,\n",
    "                \"to-btc\": 0.05\n",
    "            }\n",
    "        }        \n",
    "    },\n",
    "    {\n",
    "        \"owner\": {\n",
    "            \"name\": \"Alex\",\n",
    "            \"dob\": \"1972-01-01\",\n",
    "            \"city\": \"no where\"\n",
    "        },\n",
    "        \"asset\": {\n",
    "            \"btc\": {\n",
    "                \"amount\": 3,\n",
    "                \"desc\": \"Bitcoin\",\n",
    "                \"to-usd\": 3000,\n",
    "                \"to-btc\": 3\n",
    "            },\n",
    "            \"usd\": {\n",
    "                \"amount\": 1500,\n",
    "                \"desc\": \"US Dollar\",\n",
    "                \"to-usd\": 1500,\n",
    "                \"to-btc\": 0.0015\n",
    "            },\n",
    "            \"eth\": {\n",
    "                \"amount\": 150,\n",
    "                \"desc\": \"Etherium\",\n",
    "                \"to-usd\": 150,\n",
    "                \"to-btc\": 0.15\n",
    "            }\n",
    "        }\n",
    "    }\n",
    "]\n",
    "pprint(data[0])"
   ]
  },
  {
   "cell_type": "code",
   "execution_count": 3,
   "metadata": {},
   "outputs": [
    {
     "name": "stdout",
     "output_type": "stream",
     "text": [
      "[PathValue(value=2, path=['$', 'asset', 'btc', 'amount']),\n",
      " PathValue(value=1000, path=['$', 'asset', 'usd', 'amount']),\n",
      " PathValue(value=100, path=['$', 'asset', 'eth', 'amount'])]\n"
     ]
    },
    {
     "data": {
      "text/plain": [
       "[PathValue(value=2, path=['$', 'asset', 'btc', 'amount']),\n",
       " PathValue(value=100, path=['$', 'asset', 'eth', 'amount']),\n",
       " PathValue(value=1000, path=['$', 'asset', 'usd', 'amount'])]"
      ]
     },
     "execution_count": 3,
     "metadata": {},
     "output_type": "execute_result"
    }
   ],
   "source": [
    "query = 'asset.*.amount'\n",
    "amounts = path.path_values(query, data[0])\n",
    "pprint(amounts)\n",
    "\n",
    "sorted(amounts, key=lambda x: x.value)"
   ]
  },
  {
   "cell_type": "code",
   "execution_count": 4,
   "metadata": {},
   "outputs": [
    {
     "name": "stderr",
     "output_type": "stream",
     "text": [
      "DEBUG:jaf.jaf:Applying query=['path', 'asset.*.amount'] to 3 objects.\n",
      "DEBUG:jaf.jaf:Evaluating query=['path', 'asset.*.amount'] against obj={'owner': {'name': 'Bob', 'dob': '2000-01-01', 'city': 'nowhere'}, 'asset': {'btc': {'amount': 2, 'desc': 'Bitcoin', 'to-usd': 2000, 'to-btc': 2}, 'usd': {'amount': 1000, 'desc': 'US Dollar', 'to-usd': 1000, 'to-btc': 0.001}, 'eth': {'amount': 100, 'desc': 'Etherium', 'to-usd': 100, 'to-btc': 0.1}}}.\n",
      "DEBUG:jaf.jaf_eval:Operator is self-evaluating: path\n",
      "DEBUG:jaf.jaf_eval:Evaluating operator: 'path'\n",
      "DEBUG:jaf.jaf_eval:Unevaluated args: ['asset.*.amount']\n",
      "DEBUG:jaf.jaf_eval:Evaluating args ['asset.*.amount'].\n",
      "DEBUG:jaf.jaf_eval:Arg asset.*.amount is self-evaluating.\n",
      "DEBUG:jaf.jaf_eval:Evaluated args: ['asset.*.amount']\n",
      "DEBUG:jaf.jaf_eval:Applying path to ['asset.*.amount'] with obj {'owner': {'name': 'Bob', 'dob': '2000-01-01', 'city': 'nowhere'}, 'asset': {'btc': {'amount': 2, 'desc': 'Bitcoin', 'to-usd': 2000, 'to-btc': 2}, 'usd': {'amount': 1000, 'desc': 'US Dollar', 'to-usd': 1000, 'to-btc': 0.001}, 'eth': {'amount': 100, 'desc': 'Etherium', 'to-usd': 100, 'to-btc': 0.1}}}\n",
      "DEBUG:jaf.utils:func_name='path' applied to args=(['asset.*.amount'],)\n",
      "DEBUG:jaf.utils:new-list-path-value with arg ['asset.*.amount']\n",
      "DEBUG:jaf.utils:apply path to ['asset.*.amount'] -> [PathValue(value=2, path=['$', 'asset', 'btc', 'amount']), PathValue(value=1000, path=['$', 'asset', 'usd', 'amount']), PathValue(value=100, path=['$', 'asset', 'eth', 'amount'])]\n",
      "DEBUG:jaf.utils:results: [[PathValue(value=2, path=['$', 'asset', 'btc', 'amount']), PathValue(value=1000, path=['$', 'asset', 'usd', 'amount']), PathValue(value=100, path=['$', 'asset', 'eth', 'amount'])]]\n",
      "DEBUG:jaf.jaf_eval:Result 'path': [[PathValue(value=2, path=['$', 'asset', 'btc', 'amount']), PathValue(value=1000, path=['$', 'asset', 'usd', 'amount']), PathValue(value=100, path=['$', 'asset', 'eth', 'amount'])]]\n",
      "DEBUG:jaf.jaf:Retuned a non-boolean value: [[PathValue(value=2, path=['$', 'asset', 'btc', 'amount']), PathValue(value=1000, path=['$', 'asset', 'usd', 'amount']), PathValue(value=100, path=['$', 'asset', 'eth', 'amount'])]]. Storing in value-results.\n",
      "DEBUG:jaf.jaf:Evaluating query=['path', 'asset.*.amount'] against obj={'owner': {'name': 'Alice', 'dob': '2005-01-01', 'city': 'nowhere'}, 'asset': {'btc': {'amount': 1, 'desc': 'Bitcoin', 'to-usd': 1000, 'to-btc': 1}, 'usd': {'amount': 500, 'desc': 'US Dollar', 'to-usd': 500, 'to-btc': 0.0005}, 'eth': {'amount': 50, 'desc': 'Etherium', 'to-usd': 50, 'to-btc': 0.05}}}.\n",
      "DEBUG:jaf.jaf_eval:Operator is self-evaluating: path\n",
      "DEBUG:jaf.jaf_eval:Evaluating operator: 'path'\n",
      "DEBUG:jaf.jaf_eval:Unevaluated args: ['asset.*.amount']\n",
      "DEBUG:jaf.jaf_eval:Evaluating args ['asset.*.amount'].\n",
      "DEBUG:jaf.jaf_eval:Arg asset.*.amount is self-evaluating.\n",
      "DEBUG:jaf.jaf_eval:Evaluated args: ['asset.*.amount']\n",
      "DEBUG:jaf.jaf_eval:Applying path to ['asset.*.amount'] with obj {'owner': {'name': 'Alice', 'dob': '2005-01-01', 'city': 'nowhere'}, 'asset': {'btc': {'amount': 1, 'desc': 'Bitcoin', 'to-usd': 1000, 'to-btc': 1}, 'usd': {'amount': 500, 'desc': 'US Dollar', 'to-usd': 500, 'to-btc': 0.0005}, 'eth': {'amount': 50, 'desc': 'Etherium', 'to-usd': 50, 'to-btc': 0.05}}}\n",
      "DEBUG:jaf.utils:func_name='path' applied to args=(['asset.*.amount'],)\n",
      "DEBUG:jaf.utils:new-list-path-value with arg ['asset.*.amount']\n",
      "DEBUG:jaf.utils:apply path to ['asset.*.amount'] -> [PathValue(value=1, path=['$', 'asset', 'btc', 'amount']), PathValue(value=500, path=['$', 'asset', 'usd', 'amount']), PathValue(value=50, path=['$', 'asset', 'eth', 'amount'])]\n",
      "DEBUG:jaf.utils:results: [[PathValue(value=1, path=['$', 'asset', 'btc', 'amount']), PathValue(value=500, path=['$', 'asset', 'usd', 'amount']), PathValue(value=50, path=['$', 'asset', 'eth', 'amount'])]]\n",
      "DEBUG:jaf.jaf_eval:Result 'path': [[PathValue(value=1, path=['$', 'asset', 'btc', 'amount']), PathValue(value=500, path=['$', 'asset', 'usd', 'amount']), PathValue(value=50, path=['$', 'asset', 'eth', 'amount'])]]\n",
      "DEBUG:jaf.jaf:Retuned a non-boolean value: [[PathValue(value=1, path=['$', 'asset', 'btc', 'amount']), PathValue(value=500, path=['$', 'asset', 'usd', 'amount']), PathValue(value=50, path=['$', 'asset', 'eth', 'amount'])]]. Storing in value-results.\n",
      "DEBUG:jaf.jaf:Evaluating query=['path', 'asset.*.amount'] against obj={'owner': {'name': 'Alex', 'dob': '1972-01-01', 'city': 'no where'}, 'asset': {'btc': {'amount': 3, 'desc': 'Bitcoin', 'to-usd': 3000, 'to-btc': 3}, 'usd': {'amount': 1500, 'desc': 'US Dollar', 'to-usd': 1500, 'to-btc': 0.0015}, 'eth': {'amount': 150, 'desc': 'Etherium', 'to-usd': 150, 'to-btc': 0.15}}}.\n",
      "DEBUG:jaf.jaf_eval:Operator is self-evaluating: path\n",
      "DEBUG:jaf.jaf_eval:Evaluating operator: 'path'\n",
      "DEBUG:jaf.jaf_eval:Unevaluated args: ['asset.*.amount']\n",
      "DEBUG:jaf.jaf_eval:Evaluating args ['asset.*.amount'].\n",
      "DEBUG:jaf.jaf_eval:Arg asset.*.amount is self-evaluating.\n",
      "DEBUG:jaf.jaf_eval:Evaluated args: ['asset.*.amount']\n",
      "DEBUG:jaf.jaf_eval:Applying path to ['asset.*.amount'] with obj {'owner': {'name': 'Alex', 'dob': '1972-01-01', 'city': 'no where'}, 'asset': {'btc': {'amount': 3, 'desc': 'Bitcoin', 'to-usd': 3000, 'to-btc': 3}, 'usd': {'amount': 1500, 'desc': 'US Dollar', 'to-usd': 1500, 'to-btc': 0.0015}, 'eth': {'amount': 150, 'desc': 'Etherium', 'to-usd': 150, 'to-btc': 0.15}}}\n",
      "DEBUG:jaf.utils:func_name='path' applied to args=(['asset.*.amount'],)\n",
      "DEBUG:jaf.utils:new-list-path-value with arg ['asset.*.amount']\n",
      "DEBUG:jaf.utils:apply path to ['asset.*.amount'] -> [PathValue(value=3, path=['$', 'asset', 'btc', 'amount']), PathValue(value=1500, path=['$', 'asset', 'usd', 'amount']), PathValue(value=150, path=['$', 'asset', 'eth', 'amount'])]\n",
      "DEBUG:jaf.utils:results: [[PathValue(value=3, path=['$', 'asset', 'btc', 'amount']), PathValue(value=1500, path=['$', 'asset', 'usd', 'amount']), PathValue(value=150, path=['$', 'asset', 'eth', 'amount'])]]\n",
      "DEBUG:jaf.jaf_eval:Result 'path': [[PathValue(value=3, path=['$', 'asset', 'btc', 'amount']), PathValue(value=1500, path=['$', 'asset', 'usd', 'amount']), PathValue(value=150, path=['$', 'asset', 'eth', 'amount'])]]\n",
      "DEBUG:jaf.jaf:Retuned a non-boolean value: [[PathValue(value=3, path=['$', 'asset', 'btc', 'amount']), PathValue(value=1500, path=['$', 'asset', 'usd', 'amount']), PathValue(value=150, path=['$', 'asset', 'eth', 'amount'])]]. Storing in value-results.\n"
     ]
    },
    {
     "name": "stdout",
     "output_type": "stream",
     "text": [
      "{'matching-indices': [],\n",
      " 'value-results': {0: [[PathValue(value=2, path=['$', 'asset', 'btc', 'amount']),\n",
      "                        PathValue(value=1000, path=['$', 'asset', 'usd', 'amount']),\n",
      "                        PathValue(value=100, path=['$', 'asset', 'eth', 'amount'])]],\n",
      "                   1: [[PathValue(value=1, path=['$', 'asset', 'btc', 'amount']),\n",
      "                        PathValue(value=500, path=['$', 'asset', 'usd', 'amount']),\n",
      "                        PathValue(value=50, path=['$', 'asset', 'eth', 'amount'])]],\n",
      "                   2: [[PathValue(value=3, path=['$', 'asset', 'btc', 'amount']),\n",
      "                        PathValue(value=1500, path=['$', 'asset', 'usd', 'amount']),\n",
      "                        PathValue(value=150, path=['$', 'asset', 'eth', 'amount'])]]}}\n"
     ]
    }
   ],
   "source": [
    "results = jaf(data, query)\n",
    "pprint(results)\n",
    "# test2"
   ]
  },
  {
   "cell_type": "code",
   "execution_count": 5,
   "metadata": {},
   "outputs": [
    {
     "name": "stdout",
     "output_type": "stream",
     "text": [
      "['gt?', ['path', 'asset.*.amount'], 10]\n"
     ]
    }
   ],
   "source": [
    "query2 = ['gt?', ['path', 'asset.*.amount'], 10]\n",
    "\n",
    "results2 = jaf(data, query2)\n",
    "pprint(results2)"
   ]
  }
 ],
 "metadata": {
  "kernelspec": {
   "display_name": "jaf",
   "language": "python",
   "name": "python3"
  },
  "language_info": {
   "codemirror_mode": {
    "name": "ipython",
    "version": 3
   },
   "file_extension": ".py",
   "mimetype": "text/x-python",
   "name": "python",
   "nbconvert_exporter": "python",
   "pygments_lexer": "ipython3",
   "version": "3.13.1"
  }
 },
 "nbformat": 4,
 "nbformat_minor": 2
}
