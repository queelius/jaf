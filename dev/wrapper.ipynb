{
 "cells": [
  {
   "cell_type": "code",
   "execution_count": 15,
   "metadata": {},
   "outputs": [],
   "source": [
    "from typing import Any, List, Union\n",
    "import logging\n",
    "import re\n",
    "from pprint import pprint\n",
    "from jaf import path, utils\n",
    "logger = logging.getLogger(__name__)\n",
    "logger.setLevel(logging.INFO)"
   ]
  },
  {
   "cell_type": "code",
   "execution_count": 16,
   "metadata": {},
   "outputs": [],
   "source": [
    "data2 = [\n",
    "   {\n",
    "      'name': 'Alice',\n",
    "      'roles': ['admin', 'user'],\n",
    "      'test': {\n",
    "         'test2': {\n",
    "            'test3': {\n",
    "               'emails': ['alicedeep@example.com', ['bobdeep@test.com', 'joedeep@test.com']]\n",
    "            }\n",
    "         }\n",
    "      },\n",
    "      'profile': {\n",
    "         'age': 30,\n",
    "         'emails': ['alice@example.com', 'alice.work@example.com']\n",
    "      }\n",
    "   },\n",
    "   {\n",
    "      'name': 'Bob',\n",
    "      'roles': ['user'],\n",
    "      'test': {\n",
    "         'test2': {\n",
    "            'test3': {\n",
    "               'emails': ['bob@mymail.com']\n",
    "            }\n",
    "         }\n",
    "      }\n",
    "   }\n",
    "]\n",
    "\n",
    "data = data2[1]"
   ]
  },
  {
   "cell_type": "code",
   "execution_count": 17,
   "metadata": {},
   "outputs": [
    {
     "name": "stdout",
     "output_type": "stream",
     "text": [
      "[PathValue(value=['bob@mymail.com'], path=['$', 'test', 'test2', 'test3', 'emails'])]\n"
     ]
    }
   ],
   "source": [
    "vals = path.path_values(path='**.emails', obj=data)\n",
    "pprint(vals)"
   ]
  },
  {
   "cell_type": "code",
   "execution_count": 18,
   "metadata": {},
   "outputs": [
    {
     "name": "stderr",
     "output_type": "stream",
     "text": [
      "DEBUG:jaf.utils:wrap called with func=<function <lambda> at 0x7aaff0d08c20>, func_name=λ x, obj ↦ x[0].upper())\n",
      "DEBUG:jaf.utils:func_name='λ x, obj ↦ x[0].upper())' applied to args=([PathValue(value=['bob@mymail.com'], path=['$', 'test', 'test2', 'test3', 'emails'])],)\n",
      "DEBUG:jaf.utils:new-list-path-value with arg [['bob@mymail.com']]\n",
      "DEBUG:jaf.utils:apply λ x, obj ↦ x[0].upper()) to [['bob@mymail.com']] -> BOB@MYMAIL.COM\n",
      "DEBUG:jaf.utils:results: ['BOB@MYMAIL.COM']\n"
     ]
    },
    {
     "name": "stdout",
     "output_type": "stream",
     "text": [
      "['BOB@MYMAIL.COM']\n"
     ]
    }
   ],
   "source": [
    "f = utils.wrap(func=lambda x, obj: x[0].upper())\n",
    "results = f(vals, obj=data)\n",
    "pprint(results)"
   ]
  },
  {
   "cell_type": "code",
   "execution_count": 19,
   "metadata": {},
   "outputs": [
    {
     "name": "stderr",
     "output_type": "stream",
     "text": [
      "DEBUG:jaf.utils:wrap called with func=<function <lambda> at 0x7aaff82fbba0>, func_name=λ x, obj ↦ x.lower())\n",
      "DEBUG:jaf.utils:func_name='λ x, obj ↦ x.lower())' applied to args=(['BOB@MYMAIL.COM'],)\n",
      "DEBUG:jaf.utils:new-list-path-value with arg ['BOB@MYMAIL.COM']\n",
      "DEBUG:jaf.utils:apply λ x, obj ↦ x.lower()) to ['BOB@MYMAIL.COM'] -> bob@mymail.com\n",
      "DEBUG:jaf.utils:results: ['bob@mymail.com']\n",
      "DEBUG:jaf.utils:wrap called with func=<function length at 0x7aaff0d09080>, func_name=length\n",
      "DEBUG:jaf.utils:func_name='length' applied to args=(['bob@mymail.com'],)\n",
      "DEBUG:jaf.utils:new-list-path-value with arg ['bob@mymail.com']\n",
      "DEBUG:jaf.utils:apply length to ['bob@mymail.com'] -> 14\n",
      "DEBUG:jaf.utils:results: [14]\n"
     ]
    },
    {
     "name": "stdout",
     "output_type": "stream",
     "text": [
      "[14]\n"
     ]
    }
   ],
   "source": [
    "def length(x, obj):\n",
    "   if isinstance(x, (str, list)):\n",
    "      return len(x)\n",
    "   return -1\n",
    "\n",
    "\n",
    "logger.setLevel(logging.DEBUG)\n",
    "\n",
    "f1 = utils.wrap(func=lambda x, obj: x.lower())\n",
    "results1 = f1(results, obj=data)\n",
    "f2 = utils.wrap(func=length)\n",
    "results2 = f2(results1, obj=data)\n",
    "pprint(results2)"
   ]
  },
  {
   "cell_type": "code",
   "execution_count": 20,
   "metadata": {},
   "outputs": [
    {
     "name": "stderr",
     "output_type": "stream",
     "text": [
      "DEBUG:jaf.utils:wrap called with func=<function two at 0x7aaff8123060>, func_name=two\n",
      "DEBUG:jaf.utils:func_name='two' applied to args=([14],)\n",
      "DEBUG:jaf.utils:new-list-path-value with arg [14]\n",
      "DEBUG:jaf.utils:apply two to [14] -> [28, 16]\n",
      "DEBUG:jaf.utils:results: [[28, 16]]\n"
     ]
    },
    {
     "name": "stdout",
     "output_type": "stream",
     "text": [
      "[[28, 16]]\n"
     ]
    }
   ],
   "source": [
    "def two(x, obj):\n",
    "   return [x * 2, x + 2]\n",
    "\n",
    "f3 = utils.wrap(func=two)\n",
    "results3 = f3(results2, obj=data)\n",
    "pprint(results3)"
   ]
  },
  {
   "cell_type": "code",
   "execution_count": 21,
   "metadata": {},
   "outputs": [
    {
     "name": "stderr",
     "output_type": "stream",
     "text": [
      "DEBUG:jaf.utils:wrap called with func=<function add at 0x7aaff8122d40>, func_name=add\n",
      "DEBUG:jaf.utils:func_name='add' applied to args=(28,)\n",
      "ERROR:jaf.utils:Error applying add to (28,): 'int' object is not iterable, skipping...\n",
      "DEBUG:jaf.utils:results: []\n"
     ]
    }
   ],
   "source": [
    "# let's have two arguments\n",
    "\n",
    "def add(x, y, obj):\n",
    "   return x + y\n",
    "\n",
    "f4 = utils.wrap(func=add)\n",
    "results4 = f4(results3[0][0], results3[0][1], obj=data)"
   ]
  }
 ],
 "metadata": {
  "kernelspec": {
   "display_name": "jaf",
   "language": "python",
   "name": "python3"
  },
  "language_info": {
   "codemirror_mode": {
    "name": "ipython",
    "version": 3
   },
   "file_extension": ".py",
   "mimetype": "text/x-python",
   "name": "python",
   "nbconvert_exporter": "python",
   "pygments_lexer": "ipython3",
   "version": "3.13.1"
  }
 },
 "nbformat": 4,
 "nbformat_minor": 2
}
