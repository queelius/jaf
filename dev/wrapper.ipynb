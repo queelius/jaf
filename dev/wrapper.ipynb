{
 "cells": [
  {
   "cell_type": "markdown",
   "metadata": {},
   "source": [
    "# Function Wrapper `utils.wrap`\n",
    "\n",
    "Suppose we have a predicate `lower_case : str -> str` that returns the upper-case\n",
    "version of a string.\n",
    "\n",
    "When we apply `path` to a JSON-like object, we get a list of `PathValue` objects,\n",
    "each of which contains a path and a value, e.g. when we apply `path` to the\n",
    "arguments `**.emails.()` and `obj` given by\n",
    "\n",
    "```python\n",
    "obj =  {\n",
    "    'name': 'Alice',\n",
    "    'roles': ['admin', 'user'],\n",
    "    'test': {\n",
    "        'test2': {\n",
    "        'test3': {\n",
    "            'emails': ['AliceDeep@example.com', 'JoeDeep@test.com']\n",
    "        }\n",
    "        }\n",
    "    },\n",
    "    'profile': {\n",
    "        'age': 30,\n",
    "        'emails': ['alice@example.com', 'alice.work@example.com']\n",
    "    }\n",
    "}\n",
    "```\n",
    "\n",
    "we get the result\n",
    "\n",
    "```python\n",
    "[PathValue(value=AliceDeep@example.com, path=['$', 'test', 'test2', 'test3', 'emails', '[0]']),\n",
    " PathValue(value=JoeDeep@test.com, path=['$', 'test', 'test2', 'test3', 'emails', '[1]']),\n",
    " PathValue(value=alice@example.com, path=['$', 'profile', 'emails', '[0]']),\n",
    " PathValue(value=alice.work@example.com, path=['$', 'profile', 'emails', '[1]'])]\n",
    " ```\n",
    "\n",
    " Now, `lower_case` doesn't work on  a list of `PathValue` objects, it works on a single\n",
    " `str` argument. The purpose of `utils.wrap` is to create a new function\n",
    "`utils.wrap(lower_case) : List[PathValue] -> List[OpValue]` that applies `lower_case` to each\n",
    "`PathValue` object in the list:\n",
    "\n",
    "```python\n",
    "[OpValue(value=ali\n"
   ]
  },
  {
   "cell_type": "code",
   "execution_count": 1,
   "metadata": {},
   "outputs": [],
   "source": [
    "from typing import Any, List, Union\n",
    "import logging\n",
    "import re\n",
    "from pprint import pprint\n",
    "from jaf import path, utils\n",
    "logger = logging.getLogger(__name__)\n",
    "logger.setLevel(logging.INFO)"
   ]
  },
  {
   "cell_type": "code",
   "execution_count": 2,
   "metadata": {},
   "outputs": [],
   "source": [
    "data2 = [\n",
    "   {\n",
    "      'name': 'Alice',\n",
    "      'roles': ['admin', 'user'],\n",
    "      'test': {\n",
    "         'test2': {\n",
    "            'test3': {\n",
    "               'emails': ['alicedeep@example.com', 'joedeep@test.com']\n",
    "            }\n",
    "         }\n",
    "      },\n",
    "      'profile': {\n",
    "         'age': 30,\n",
    "         'emails': ['alice@example.com', 'alice.work@example.com']\n",
    "      }\n",
    "   },\n",
    "   {\n",
    "      'name': 'Bob',\n",
    "      'roles': ['user'],\n",
    "      'test': {\n",
    "         'test2': {\n",
    "            'test3': {\n",
    "               'emails': ['bob@mymail.com']\n",
    "            }\n",
    "         }\n",
    "      }\n",
    "   }\n",
    "]\n",
    "\n",
    "data = data2[0]"
   ]
  },
  {
   "cell_type": "code",
   "execution_count": 9,
   "metadata": {},
   "outputs": [
    {
     "name": "stdout",
     "output_type": "stream",
     "text": [
      "[PathValue(value=alicedeep@example.com, path=['$', 'test', 'test2', 'test3', 'emails', '[0]']),\n",
      " PathValue(value=joedeep@test.com, path=['$', 'test', 'test2', 'test3', 'emails', '[1]']),\n",
      " PathValue(value=alice@example.com, path=['$', 'profile', 'emails', '[0]']),\n",
      " PathValue(value=alice.work@example.com, path=['$', 'profile', 'emails', '[1]'])]\n"
     ]
    }
   ],
   "source": [
    "vals = path.path_values(path='**.emails.*', obj=data)\n",
    "pprint(vals)"
   ]
  },
  {
   "cell_type": "code",
   "execution_count": 12,
   "metadata": {},
   "outputs": [
    {
     "name": "stderr",
     "output_type": "stream",
     "text": [
      "DEBUG:jaf.utils:Applying lower-case to [PathValue(value=alicedeep@example.com, path=['$', 'test', 'test2', 'test3', 'emails', '[0]']), PathValue(value=joedeep@test.com, path=['$', 'test', 'test2', 'test3', 'emails', '[1]']), PathValue(value=alice@example.com, path=['$', 'profile', 'emails', '[0]']), PathValue(value=alice.work@example.com, path=['$', 'profile', 'emails', '[1]'])]\n",
      "DEBUG:jaf.utils:Combinations for 'lower-case': [('alicedeep@example.com', 'joedeep@test.com', 'alice@example.com', 'alice.work@example.com')]\n",
      "ERROR:jaf.utils:Error in 'lower-case': <lambda>() got multiple values for argument 'obj'\n"
     ]
    },
    {
     "name": "stdout",
     "output_type": "stream",
     "text": [
      "[]\n"
     ]
    }
   ],
   "source": [
    "f = utils.wrap(func=lambda x, obj: x.lower(), func_name=\"lower-case\")\n",
    "results = f(args=vals, obj=data)\n",
    "pprint(results)"
   ]
  },
  {
   "cell_type": "code",
   "execution_count": 5,
   "metadata": {},
   "outputs": [
    {
     "name": "stderr",
     "output_type": "stream",
     "text": [
      "DEBUG:jaf.utils:Applying <lambda> to []\n",
      "DEBUG:jaf.utils:Combinations for '<lambda>': [()]\n",
      "ERROR:jaf.utils:Error in '<lambda>': <lambda>() missing 1 required positional argument: 'x'\n",
      "DEBUG:jaf.utils:Applying length to []\n",
      "DEBUG:jaf.utils:Combinations for 'length': [()]\n",
      "ERROR:jaf.utils:Error in 'length': length() missing 1 required positional argument: 'x'\n"
     ]
    },
    {
     "name": "stdout",
     "output_type": "stream",
     "text": [
      "[]\n"
     ]
    }
   ],
   "source": [
    "def length(x, obj):\n",
    "   if isinstance(x, (str, list)):\n",
    "      return len(x)\n",
    "   return -1\n",
    "\n",
    "\n",
    "logger.setLevel(logging.DEBUG)\n",
    "\n",
    "f1 = utils.wrap(func=lambda x, obj: x.lower())\n",
    "results1 = f1(results, obj=data)\n",
    "f2 = utils.wrap(func=length)\n",
    "results2 = f2(results1, obj=data)\n",
    "pprint(results2)"
   ]
  },
  {
   "cell_type": "code",
   "execution_count": 6,
   "metadata": {},
   "outputs": [
    {
     "name": "stderr",
     "output_type": "stream",
     "text": [
      "DEBUG:jaf.utils:Applying two to []\n",
      "DEBUG:jaf.utils:Combinations for 'two': [()]\n",
      "ERROR:jaf.utils:Error in 'two': two() missing 1 required positional argument: 'x'\n"
     ]
    },
    {
     "name": "stdout",
     "output_type": "stream",
     "text": [
      "[]\n"
     ]
    }
   ],
   "source": [
    "def two(x, obj):\n",
    "   return [x * 2, x + 2]\n",
    "\n",
    "f3 = utils.wrap(func=two)\n",
    "results3 = f3(results2, obj=data)\n",
    "pprint(results3)"
   ]
  },
  {
   "cell_type": "code",
   "execution_count": 7,
   "metadata": {},
   "outputs": [
    {
     "ename": "IndexError",
     "evalue": "list index out of range",
     "output_type": "error",
     "traceback": [
      "\u001b[0;31m---------------------------------------------------------------------------\u001b[0m",
      "\u001b[0;31mIndexError\u001b[0m                                Traceback (most recent call last)",
      "Cell \u001b[0;32mIn[7], line 7\u001b[0m\n\u001b[1;32m      4\u001b[0m    \u001b[38;5;28;01mreturn\u001b[39;00m x \u001b[38;5;241m+\u001b[39m y\n\u001b[1;32m      6\u001b[0m f4 \u001b[38;5;241m=\u001b[39m utils\u001b[38;5;241m.\u001b[39mwrap(func\u001b[38;5;241m=\u001b[39madd)\n\u001b[0;32m----> 7\u001b[0m results4 \u001b[38;5;241m=\u001b[39m f4(\u001b[43mresults3\u001b[49m\u001b[43m[\u001b[49m\u001b[38;5;241;43m0\u001b[39;49m\u001b[43m]\u001b[49m[\u001b[38;5;241m0\u001b[39m], results3[\u001b[38;5;241m0\u001b[39m][\u001b[38;5;241m1\u001b[39m], obj\u001b[38;5;241m=\u001b[39mdata)\n",
      "\u001b[0;31mIndexError\u001b[0m: list index out of range"
     ]
    }
   ],
   "source": [
    "# let's have two arguments\n",
    "\n",
    "def add(x, y, obj):\n",
    "   return x + y\n",
    "\n",
    "f4 = utils.wrap(func=add)\n",
    "results4 = f4(results3[0][0], results3[0][1], obj=data)"
   ]
  }
 ],
 "metadata": {
  "kernelspec": {
   "display_name": "jaf",
   "language": "python",
   "name": "python3"
  },
  "language_info": {
   "codemirror_mode": {
    "name": "ipython",
    "version": 3
   },
   "file_extension": ".py",
   "mimetype": "text/x-python",
   "name": "python",
   "nbconvert_exporter": "python",
   "pygments_lexer": "ipython3",
   "version": "3.13.1"
  }
 },
 "nbformat": 4,
 "nbformat_minor": 2
}
