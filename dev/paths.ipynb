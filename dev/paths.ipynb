{
 "cells": [
  {
   "cell_type": "code",
   "execution_count": 1,
   "metadata": {},
   "outputs": [],
   "source": [
    "from typing import Any, List, Union\n",
    "import logging\n",
    "import re\n",
    "from pprint import pprint\n",
    "from jaf import path\n",
    "logger = logging.getLogger(__name__)\n",
    "logger.setLevel(logging.INFO)\n",
    "\n"
   ]
  },
  {
   "cell_type": "code",
   "execution_count": 2,
   "metadata": {},
   "outputs": [],
   "source": [
    "data1 = {\n",
    "    \"users\": [\n",
    "        {\n",
    "            \"name\": \"Alice\",\n",
    "            \"roles\": [\"admin\", \"user\"],\n",
    "            \"profile\": {\n",
    "                \"age\": 30,\n",
    "                \"emails\": [\"alice@example.com\", \"alice.work@example.com\"]\n",
    "            }\n",
    "        },\n",
    "        {\n",
    "            \"name\": \"Bob\",\n",
    "            \"roles\": [\"user\"],\n",
    "            \"profile\": {\n",
    "                \"age\": 25,\n",
    "                \"emails\": [\"bob@example.com\"]\n",
    "            }\n",
    "        },\n",
    "        {\n",
    "            \"name\": \"Charlie\",\n",
    "            \"roles\": [\"guest\"],\n",
    "            \"profile\": {\n",
    "                \"age\": 35\n",
    "            }\n",
    "        }\n",
    "    ],\n",
    "    \"settings\": {\n",
    "        \"theme\": \"dark\",\n",
    "        \"notifications\": True\n",
    "    }\n",
    "}\n",
    "\n",
    "\n",
    "data2 = {\n",
    "    \"users2\": [\n",
    "        {\n",
    "            \"name\": \"Alice2\",\n",
    "            \"roles\": [\"user\"],\n",
    "            \"profile\": {\n",
    "                \"age\": 30,\n",
    "                \"emails\": [\"alice2@example.com\", \"alice.work2@example.com\"]\n",
    "            }\n",
    "        },\n",
    "        {\n",
    "            \"name\": \"Bob2\",\n",
    "            \"roles\": [\"admin\", \"user\"],\n",
    "            \"profile\": {\n",
    "                \"age\": 35,\n",
    "                \"emails\": [\"bob2@example.com\"]\n",
    "            }\n",
    "        },\n",
    "        {\n",
    "            \"name\": \"Charlie2\",\n",
    "            \"roles\": [\"guest\"],\n",
    "            \"profile\": {\n",
    "                \"age\": 45\n",
    "            }\n",
    "        },\n",
    "        {\n",
    "            \"name\": \"David\",\n",
    "            \"roles\": [\"user\"],\n",
    "            \"profile\": {\n",
    "                \"age\": 40\n",
    "            }\n",
    "        }\n",
    "    ],\n",
    "    \"settings\": {\n",
    "        \"theme\": \"dark\",\n",
    "        \"notifications\": True\n",
    "    }\n",
    "}\n",
    "\n",
    "data = [data1, data2]"
   ]
  },
  {
   "cell_type": "code",
   "execution_count": 3,
   "metadata": {},
   "outputs": [
    {
     "data": {
      "text/plain": [
       "[{'users': [{'name': 'Alice',\n",
       "    'roles': ['admin', 'user'],\n",
       "    'profile': {'age': 30,\n",
       "     'emails': ['alice@example.com', 'alice.work@example.com']}},\n",
       "   {'name': 'Bob',\n",
       "    'roles': ['user'],\n",
       "    'profile': {'age': 25, 'emails': ['bob@example.com']}},\n",
       "   {'name': 'Charlie', 'roles': ['guest'], 'profile': {'age': 35}}],\n",
       "  'settings': {'theme': 'dark', 'notifications': True}},\n",
       " {'users2': [{'name': 'Alice2',\n",
       "    'roles': ['user'],\n",
       "    'profile': {'age': 30,\n",
       "     'emails': ['alice2@example.com', 'alice.work2@example.com']}},\n",
       "   {'name': 'Bob2',\n",
       "    'roles': ['admin', 'user'],\n",
       "    'profile': {'age': 35, 'emails': ['bob2@example.com']}},\n",
       "   {'name': 'Charlie2', 'roles': ['guest'], 'profile': {'age': 45}},\n",
       "   {'name': 'David', 'roles': ['user'], 'profile': {'age': 40}}],\n",
       "  'settings': {'theme': 'dark', 'notifications': True}}]"
      ]
     },
     "execution_count": 3,
     "metadata": {},
     "output_type": "execute_result"
    }
   ],
   "source": [
    "data"
   ]
  },
  {
   "cell_type": "code",
   "execution_count": 4,
   "metadata": {},
   "outputs": [
    {
     "name": "stdout",
     "output_type": "stream",
     "text": [
      "[PathValue(value=Alice, path=['$', '[0]', 'users', '[0]', 'name']),\n",
      " PathValue(value=Bob, path=['$', '[0]', 'users', '[1]', 'name']),\n",
      " PathValue(value=Charlie, path=['$', '[0]', 'users', '[2]', 'name'])]\n",
      "--------------------------------------------------------------------------------\n",
      "[PathValue(value=Alice, path=['$', '[0]', 'users', '[0]', 'name']),\n",
      " PathValue(value=Bob, path=['$', '[0]', 'users', '[1]', 'name']),\n",
      " PathValue(value=Charlie, path=['$', '[0]', 'users', '[2]', 'name'])]\n"
     ]
    }
   ],
   "source": [
    "names = path.path_values(\"*.users.*.name\", data)\n",
    "pprint(names)\n",
    "print('-'*80)\n",
    "names_ast = path.path_values_ast(data, [\"*\", \"users\", \"*\", \"name\"])\n",
    "pprint(names_ast)"
   ]
  },
  {
   "cell_type": "code",
   "execution_count": null,
   "metadata": {},
   "outputs": [],
   "source": [
    "emails = path.path_values(\"**.emails\", data)\n",
    "pprint(emails)"
   ]
  },
  {
   "cell_type": "code",
   "execution_count": 6,
   "metadata": {},
   "outputs": [],
   "source": [
    "data3 = {\n",
    "   'name': 'Alice',\n",
    "   'roles': ['admin', 'user'],\n",
    "   'test': {\n",
    "      'test2': {\n",
    "         'test3': {\n",
    "            'emails': ['alicedeep@example.com', ['bobdeep@test.com', 'joedeep@test.com']]\n",
    "         }\n",
    "      }\n",
    "   },\n",
    "   'profile': {\n",
    "      'age': 30,\n",
    "      'emails': ['alice@example.com', 'alice.work@example.com']\n",
    "   }\n",
    "}"
   ]
  },
  {
   "cell_type": "code",
   "execution_count": 7,
   "metadata": {},
   "outputs": [
    {
     "data": {
      "text/plain": [
       "{'name': 'Alice',\n",
       " 'roles': ['admin', 'user'],\n",
       " 'test': {'test2': {'test3': {'emails': ['alicedeep@example.com',\n",
       "     ['bobdeep@test.com', 'joedeep@test.com']]}}},\n",
       " 'profile': {'age': 30,\n",
       "  'emails': ['alice@example.com', 'alice.work@example.com']}}"
      ]
     },
     "execution_count": 7,
     "metadata": {},
     "output_type": "execute_result"
    }
   ],
   "source": [
    "data3"
   ]
  },
  {
   "cell_type": "code",
   "execution_count": 8,
   "metadata": {},
   "outputs": [
    {
     "name": "stdout",
     "output_type": "stream",
     "text": [
      "['alice@example.com', 'alice.work@example.com']\n"
     ]
    }
   ],
   "source": [
    "emails2 = path.path_values(\"profile.emails\", data3)\n",
    "pprint(emails2)"
   ]
  },
  {
   "cell_type": "code",
   "execution_count": 9,
   "metadata": {},
   "outputs": [
    {
     "name": "stdout",
     "output_type": "stream",
     "text": [
      "['alicedeep@example.com',\n",
      " ['bobdeep@test.com', 'joedeep@test.com'],\n",
      " 'alice@example.com',\n",
      " 'alice.work@example.com']\n"
     ]
    }
   ],
   "source": [
    "emails3 = path.path_values(\"**.emails\", data3)\n",
    "pprint(emails3)"
   ]
  },
  {
   "cell_type": "code",
   "execution_count": 10,
   "metadata": {},
   "outputs": [
    {
     "name": "stdout",
     "output_type": "stream",
     "text": [
      "[PathValue(value=alice@example.com, path=['$', 'profile', 'emails', '[0]'])]\n"
     ]
    }
   ],
   "source": [
    "emails4 = path.path_values(\"profile.emails.[0]\", data3)\n",
    "pprint(emails4)"
   ]
  }
 ],
 "metadata": {
  "kernelspec": {
   "display_name": "jaf",
   "language": "python",
   "name": "python3"
  },
  "language_info": {
   "codemirror_mode": {
    "name": "ipython",
    "version": 3
   },
   "file_extension": ".py",
   "mimetype": "text/x-python",
   "name": "python",
   "nbconvert_exporter": "python",
   "pygments_lexer": "ipython3",
   "version": "3.13.1"
  }
 },
 "nbformat": 4,
 "nbformat_minor": 2
}
