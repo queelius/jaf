{
 "cells": [
  {
   "cell_type": "code",
   "execution_count": 1,
   "metadata": {},
   "outputs": [],
   "source": [
    "from typing import Any, List, Union\n",
    "import logging\n",
    "import re\n",
    "from pprint import pprint\n",
    "\n",
    "logger = logging.getLogger(__name__)\n",
    "logger.setLevel(logging.INFO)\n",
    "\n",
    "class PathValue:\n",
    "    \"\"\"\n",
    "    A class to represent a value from a path in a JSON object.\n",
    "    \"\"\"\n",
    "    def __init__(self, value: Any, path: List[str] = None):\n",
    "        self.value = value\n",
    "        self.path = path\n",
    "\n",
    "    def __repr__(self):\n",
    "        return f\"{self.__class__.__name__}(value={self.value}, path={self.path})\"\n"
   ]
  },
  {
   "cell_type": "code",
   "execution_count": 2,
   "metadata": {},
   "outputs": [],
   "source": [
    "def path_values(path: Union[str, List[str]], obj: Any) -> List[PathValue]:\n",
    "\n",
    "    if isinstance(path, str):\n",
    "        path = path.strip()\n",
    "        tokens = re.findall(r'\\*\\*|\\*|\\[[^\\]]+\\]|[^.]+', path)\n",
    "\n",
    "    elif isinstance(path, list):\n",
    "        tokens = path\n",
    "\n",
    "    if tokens[0] == '$':\n",
    "        tokens = tokens[1:]\n",
    "\n",
    "    return path_values_ast(obj, tokens, ['$'])\n",
    "\n",
    "\n",
    "def path_values_ast(obj: Any,\n",
    "                    tokens: List[str],\n",
    "                    path: List[str]) -> List[PathValue]:\n",
    "        if not tokens:\n",
    "            return [PathValue(obj, path)]\n",
    "\n",
    "        token = tokens[0]\n",
    "        results = []\n",
    "\n",
    "        if token == '**':\n",
    "            results.extend(path_values_ast(obj, tokens[1:], path))\n",
    "\n",
    "            if isinstance(obj, dict):\n",
    "                for k, v in obj.items():\n",
    "                    results.extend(path_values_ast(v, tokens, path+[k]))\n",
    "            elif isinstance(obj, list):\n",
    "                for i, item in enumerate(obj):\n",
    "                    results.extend(path_values_ast(item, tokens, path+[[i]]))\n",
    "        elif token == '*':\n",
    "            if isinstance(obj, dict):\n",
    "                for k, v in obj.items():\n",
    "                    results.extend(path_values_ast(v, tokens[1:], path+[k]))\n",
    "            elif isinstance(obj, list):\n",
    "                for i, item in enumerate(obj):\n",
    "                    results.extend(path_values_ast(item, tokens[1:], path+[[i]]))\n",
    "        elif re.match(r'\\[\\d+\\]', token):\n",
    "            index = int(token.strip('[]'))\n",
    "            if isinstance(obj, list) and 0 <= index < len(obj):\n",
    "                results.extend(path_values_ast(obj[index], tokens[1:], path+[[index]]))\n",
    "        elif isinstance(obj, dict) and token in obj:\n",
    "            results.extend(path_values_ast(obj[token], tokens[1:], path+[token]))\n",
    "\n",
    "        return results\n"
   ]
  },
  {
   "cell_type": "code",
   "execution_count": 3,
   "metadata": {},
   "outputs": [],
   "source": [
    "data1 = {\n",
    "    \"users\": [\n",
    "        {\n",
    "            \"name\": \"Alice\",\n",
    "            \"roles\": [\"admin\", \"user\"],\n",
    "            \"profile\": {\n",
    "                \"age\": 30,\n",
    "                \"emails\": [\"alice@example.com\", \"alice.work@example.com\"]\n",
    "            }\n",
    "        },\n",
    "        {\n",
    "            \"name\": \"Bob\",\n",
    "            \"roles\": [\"user\"],\n",
    "            \"profile\": {\n",
    "                \"age\": 25,\n",
    "                \"emails\": [\"bob@example.com\"]\n",
    "            }\n",
    "        },\n",
    "        {\n",
    "            \"name\": \"Charlie\",\n",
    "            \"roles\": [\"guest\"],\n",
    "            \"profile\": {\n",
    "                \"age\": 35\n",
    "            }\n",
    "        }\n",
    "    ],\n",
    "    \"settings\": {\n",
    "        \"theme\": \"dark\",\n",
    "        \"notifications\": True\n",
    "    }\n",
    "}\n",
    "\n",
    "\n",
    "data2 = {\n",
    "    \"users2\": [\n",
    "        {\n",
    "            \"name\": \"Alice2\",\n",
    "            \"roles\": [\"user\"],\n",
    "            \"profile\": {\n",
    "                \"age\": 30,\n",
    "                \"emails\": [\"alice2@example.com\", \"alice.work2@example.com\"]\n",
    "            }\n",
    "        },\n",
    "        {\n",
    "            \"name\": \"Bob2\",\n",
    "            \"roles\": [\"admin\", \"user\"],\n",
    "            \"profile\": {\n",
    "                \"age\": 35,\n",
    "                \"emails\": [\"bob2@example.com\"]\n",
    "            }\n",
    "        },\n",
    "        {\n",
    "            \"name\": \"Charlie2\",\n",
    "            \"roles\": [\"guest\"],\n",
    "            \"profile\": {\n",
    "                \"age\": 45\n",
    "            }\n",
    "        },\n",
    "        {\n",
    "            \"name\": \"David\",\n",
    "            \"roles\": [\"user\"],\n",
    "            \"profile\": {\n",
    "                \"age\": 40\n",
    "            }\n",
    "        }\n",
    "    ],\n",
    "    \"settings\": {\n",
    "        \"theme\": \"dark\",\n",
    "        \"notifications\": True\n",
    "    }\n",
    "}\n",
    "\n",
    "data = [data1, data2]"
   ]
  },
  {
   "cell_type": "code",
   "execution_count": 4,
   "metadata": {},
   "outputs": [
    {
     "data": {
      "text/plain": [
       "[{'users': [{'name': 'Alice',\n",
       "    'roles': ['admin', 'user'],\n",
       "    'profile': {'age': 30,\n",
       "     'emails': ['alice@example.com', 'alice.work@example.com']}},\n",
       "   {'name': 'Bob',\n",
       "    'roles': ['user'],\n",
       "    'profile': {'age': 25, 'emails': ['bob@example.com']}},\n",
       "   {'name': 'Charlie', 'roles': ['guest'], 'profile': {'age': 35}}],\n",
       "  'settings': {'theme': 'dark', 'notifications': True}},\n",
       " {'users2': [{'name': 'Alice2',\n",
       "    'roles': ['user'],\n",
       "    'profile': {'age': 30,\n",
       "     'emails': ['alice2@example.com', 'alice.work2@example.com']}},\n",
       "   {'name': 'Bob2',\n",
       "    'roles': ['admin', 'user'],\n",
       "    'profile': {'age': 35, 'emails': ['bob2@example.com']}},\n",
       "   {'name': 'Charlie2', 'roles': ['guest'], 'profile': {'age': 45}},\n",
       "   {'name': 'David', 'roles': ['user'], 'profile': {'age': 40}}],\n",
       "  'settings': {'theme': 'dark', 'notifications': True}}]"
      ]
     },
     "execution_count": 4,
     "metadata": {},
     "output_type": "execute_result"
    }
   ],
   "source": [
    "data"
   ]
  },
  {
   "cell_type": "code",
   "execution_count": 5,
   "metadata": {},
   "outputs": [
    {
     "name": "stdout",
     "output_type": "stream",
     "text": [
      "[PathValue(value=Alice, path=['$', [0], 'users', [0], 'name']),\n",
      " PathValue(value=Bob, path=['$', [0], 'users', [1], 'name']),\n",
      " PathValue(value=Charlie, path=['$', [0], 'users', [2], 'name'])]\n"
     ]
    }
   ],
   "source": [
    "names = path_values(\"*.users.*.name\", data)\n",
    "pprint(names)"
   ]
  },
  {
   "cell_type": "code",
   "execution_count": 6,
   "metadata": {},
   "outputs": [
    {
     "name": "stdout",
     "output_type": "stream",
     "text": [
      "[PathValue(value=['alice@example.com', 'alice.work@example.com'], path=['$', [0], 'users', [0], 'profile', 'emails']),\n",
      " PathValue(value=['bob@example.com'], path=['$', [0], 'users', [1], 'profile', 'emails']),\n",
      " PathValue(value=['alice2@example.com', 'alice.work2@example.com'], path=['$', [1], 'users2', [0], 'profile', 'emails']),\n",
      " PathValue(value=['bob2@example.com'], path=['$', [1], 'users2', [1], 'profile', 'emails'])]\n"
     ]
    }
   ],
   "source": [
    "emails = path_values(\"**.emails\", data)\n",
    "pprint(emails)"
   ]
  },
  {
   "cell_type": "code",
   "execution_count": 7,
   "metadata": {},
   "outputs": [],
   "source": [
    "data3 = {\n",
    "   'name': 'Alice',\n",
    "   'roles': ['admin', 'user'],\n",
    "   'test': {\n",
    "      'test2': {\n",
    "         'test3': {\n",
    "            'emails': ['alicedeep@example.com', ['bobdeep@test.com', 'joedeep@test.com']]\n",
    "         }\n",
    "      }\n",
    "   },\n",
    "   'profile': {\n",
    "      'age': 30,\n",
    "      'emails': ['alice@example.com', 'alice.work@example.com']\n",
    "   }\n",
    "}"
   ]
  },
  {
   "cell_type": "code",
   "execution_count": 8,
   "metadata": {},
   "outputs": [
    {
     "data": {
      "text/plain": [
       "{'name': 'Alice',\n",
       " 'roles': ['admin', 'user'],\n",
       " 'test': {'test2': {'test3': {'emails': ['alicedeep@example.com',\n",
       "     ['bobdeep@test.com', 'joedeep@test.com']]}}},\n",
       " 'profile': {'age': 30,\n",
       "  'emails': ['alice@example.com', 'alice.work@example.com']}}"
      ]
     },
     "execution_count": 8,
     "metadata": {},
     "output_type": "execute_result"
    }
   ],
   "source": [
    "data3"
   ]
  },
  {
   "cell_type": "code",
   "execution_count": 9,
   "metadata": {},
   "outputs": [
    {
     "name": "stdout",
     "output_type": "stream",
     "text": [
      "[PathValue(value=['alice@example.com', 'alice.work@example.com'], path=['$', 'profile', 'emails'])]\n"
     ]
    }
   ],
   "source": [
    "emails2 = path_values(\"profile.emails\", data3)\n",
    "pprint(emails2)"
   ]
  },
  {
   "cell_type": "code",
   "execution_count": 10,
   "metadata": {},
   "outputs": [
    {
     "name": "stdout",
     "output_type": "stream",
     "text": [
      "[PathValue(value=['alicedeep@example.com', ['bobdeep@test.com', 'joedeep@test.com']], path=['$', 'test', 'test2', 'test3', 'emails']),\n",
      " PathValue(value=['alice@example.com', 'alice.work@example.com'], path=['$', 'profile', 'emails'])]\n"
     ]
    }
   ],
   "source": [
    "emails3 = path_values(\"**.emails\", data3)\n",
    "pprint(emails3)"
   ]
  },
  {
   "cell_type": "code",
   "execution_count": 11,
   "metadata": {},
   "outputs": [
    {
     "name": "stdout",
     "output_type": "stream",
     "text": [
      "[PathValue(value=alice@example.com, path=['$', 'profile', 'emails', [0]])]\n"
     ]
    }
   ],
   "source": [
    "emails4 = path_values(\"profile.emails.[0]\", data3)\n",
    "pprint(emails4)"
   ]
  }
 ],
 "metadata": {
  "kernelspec": {
   "display_name": "jaf",
   "language": "python",
   "name": "python3"
  },
  "language_info": {
   "codemirror_mode": {
    "name": "ipython",
    "version": 3
   },
   "file_extension": ".py",
   "mimetype": "text/x-python",
   "name": "python",
   "nbconvert_exporter": "python",
   "pygments_lexer": "ipython3",
   "version": "3.13.1"
  }
 },
 "nbformat": 4,
 "nbformat_minor": 2
}
